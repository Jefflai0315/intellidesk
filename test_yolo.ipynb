{
 "cells": [
  {
   "cell_type": "code",
   "execution_count": 9,
   "metadata": {},
   "outputs": [],
   "source": [
    "from ultralytics import YOLO\n",
    "import cv2"
   ]
  },
  {
   "cell_type": "code",
   "execution_count": 2,
   "metadata": {},
   "outputs": [
    {
     "name": "stdout",
     "output_type": "stream",
     "text": [
      "Downloading https://github.com/ultralytics/assets/releases/download/v0.0.0/yolov8m.pt to 'yolov8m.pt'...\n",
      "⚠️ Download failure, retrying 1/3 https://github.com/ultralytics/assets/releases/download/v0.0.0/yolov8m.pt...\n"
     ]
    },
    {
     "name": "stderr",
     "output_type": "stream",
     "text": [
      "######################################################################## 100.0%\n"
     ]
    }
   ],
   "source": [
    "model = YOLO(\"yolov8m.pt\")"
   ]
  },
  {
   "cell_type": "code",
   "execution_count": 3,
   "metadata": {},
   "outputs": [
    {
     "name": "stdout",
     "output_type": "stream",
     "text": [
      "\n",
      "image 1/1 /Users/jefflai/Intellidesk/Posture-analysis-system-using-MediaPipe-Pose/test_yolo.jpg: 640x480 2 cups, 1 tv, 2 laptops, 156.0ms\n",
      "Speed: 7.7ms preprocess, 156.0ms inference, 1.9ms postprocess per image at shape (1, 3, 640, 480)\n"
     ]
    }
   ],
   "source": [
    "results = model.predict(\"test_yolo.jpg\")"
   ]
  },
  {
   "cell_type": "code",
   "execution_count": 10,
   "metadata": {},
   "outputs": [],
   "source": [
    "image = cv2.imread('test_yolo.jpg')"
   ]
  },
  {
   "cell_type": "code",
   "execution_count": 14,
   "metadata": {},
   "outputs": [],
   "source": [
    "result = results[0]\n",
    "\n",
    "for box in result.boxes:\n",
    "    cords = box.xyxy[0].tolist()  # [xmin, ymin, xmax, ymax]\n",
    "    class_id = box.cls[0].item()\n",
    "    conf = box.conf[0].item()\n",
    "    label = result.names[class_id]\n",
    "\n",
    "    # Draw rectangle (bounding box)\n",
    "    start_point = (int(cords[0]), int(cords[1]))  # Top left corner\n",
    "    end_point = (int(cords[2]), int(cords[3]))    # Bottom right corner\n",
    "    color = (255, 0, 0)  # Color of the rectangle (in BGR)\n",
    "    thickness = 2       # Thickness of the rectangle border\n",
    "    cv2.rectangle(image, start_point, end_point, color, thickness)\n",
    "\n",
    "    # Put label near the top left corner of the rectangle\n",
    "    font = cv2.FONT_HERSHEY_SIMPLEX\n",
    "    font_scale = 5\n",
    "    font_color = (255, 255, 255)  # White color\n",
    "    cv2.putText(image, f'{label} {conf:.2f}', (int(cords[0]), int(cords[1]-10)), font, font_scale, font_color, thickness)"
   ]
  },
  {
   "cell_type": "code",
   "execution_count": 15,
   "metadata": {},
   "outputs": [],
   "source": [
    "cv2.imshow('YOLOv8 Object Detection', image)\n",
    "cv2.waitKey(0)\n",
    "cv2.destroyAllWindows()"
   ]
  }
 ],
 "metadata": {
  "kernelspec": {
   "display_name": "myenv",
   "language": "python",
   "name": "python3"
  },
  "language_info": {
   "codemirror_mode": {
    "name": "ipython",
    "version": 3
   },
   "file_extension": ".py",
   "mimetype": "text/x-python",
   "name": "python",
   "nbconvert_exporter": "python",
   "pygments_lexer": "ipython3",
   "version": "3.10.11"
  },
  "orig_nbformat": 4,
  "vscode": {
   "interpreter": {
    "hash": "416662e0c1598f44d1c47321e3a641e8fddce6b1f381058eead826809d9b358e"
   }
  }
 },
 "nbformat": 4,
 "nbformat_minor": 2
}
